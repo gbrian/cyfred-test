{
 "cells": [
  {
   "cell_type": "code",
   "execution_count": 3,
   "id": "a0ee6161-3e36-4fd6-b4e8-6b7149828031",
   "metadata": {},
   "outputs": [
    {
     "ename": "SyntaxError",
     "evalue": "Identifier 'stream' has already been declared",
     "execution_count": 3,
     "output_type": "error",
     "traceback": [
      "evalmachine.<anonymous>:1",
      "const fs = require('fs')",
      "^",
      "",
      "SyntaxError: Identifier 'stream' has already been declared",
      "    at Script.runInThisContext (node:vm:129:12)",
      "    at Object.runInThisContext (node:vm:305:38)",
      "    at run ([eval]:1054:15)",
      "    at onRunRequest ([eval]:888:18)",
      "    at onMessage ([eval]:848:13)",
      "    at process.emit (node:events:390:28)",
      "    at emit (node:internal/child_process:917:12)",
      "    at processTicksAndRejections (node:internal/process/task_queues:84:21)"
     ]
    }
   ],
   "source": [
    "const fs = require('fs')\n",
    "const fileName = '../Northwind_schema.sql'\n",
    "let stream = fs.createReadStream(fileName);\n",
    "stream.on(\"error\", err => reject(err));\n",
    "stream.on(\"data\", chunk => hash.update(chunk));\n",
    "stream.on(\"end\", () => resolve(hash.digest(\"hex\")));"
   ]
  }
 ],
 "metadata": {
  "kernelspec": {
   "display_name": "Javascript (Node.js)",
   "language": "javascript",
   "name": "javascript"
  },
  "language_info": {
   "file_extension": ".js",
   "mimetype": "application/javascript",
   "name": "javascript",
   "version": "16.11.1"
  }
 },
 "nbformat": 4,
 "nbformat_minor": 5
}
