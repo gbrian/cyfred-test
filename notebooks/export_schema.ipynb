{
 "cells": [
  {
   "cell_type": "code",
   "execution_count": 25,
   "id": "44036f4d-a256-4bba-b44f-fef1238e2fc9",
   "metadata": {},
   "outputs": [],
   "source": [
    "DB = \"sqlite:///../Northwind_test.sqlite\""
   ]
  },
  {
   "cell_type": "code",
   "execution_count": 30,
   "id": "9321af18-740a-4f0d-b711-57b75c8b922d",
   "metadata": {},
   "outputs": [],
   "source": [
    "from sqlalchemy.ext.automap import automap_base\n",
    "from sqlalchemy.orm import Session\n",
    "from sqlalchemy import create_engine\n",
    "from sqlalchemy.inspection import inspect\n",
    "\n",
    "Base = automap_base()\n",
    "\n",
    "# engine, suppose it has two tables 'user' and 'address' set up\n",
    "engine = create_engine(DB)\n",
    "\n",
    "# reflect the tables\n",
    "Base.prepare(engine, reflect=True)\n",
    "entities = [inspect(c) for c in Base.classes]"
   ]
  },
  {
   "cell_type": "code",
   "execution_count": 32,
   "id": "7c623b6e-59d6-4dc2-86c0-2e9fcbb1ff4b",
   "metadata": {},
   "outputs": [
    {
     "name": "stdout",
     "output_type": "stream",
     "text": [
      "mapped class Categories->Categories: [<class 'sqlalchemy.ext.automap.Products'>], ColumnCollection(Categories.CategoryID, Categories.CategoryName, Categories.Description, Categories.Picture)\n",
      "mapped class CustomerDemographics->CustomerDemographics: [<class 'sqlalchemy.ext.automap.Customers'>], ColumnCollection(CustomerDemographics.CustomerTypeID, CustomerDemographics.CustomerDesc)\n",
      "mapped class Customers->Customers: [<class 'sqlalchemy.ext.automap.CustomerDemographics'>, <class 'sqlalchemy.ext.automap.Orders'>], ColumnCollection(Customers.CustomerID, Customers.CompanyName, Customers.ContactName, Customers.ContactTitle, Customers.Address, Customers.City, Customers.Region, Customers.PostalCode, Customers.Country, Customers.Phone, Customers.Fax)\n",
      "mapped class Territories->Territories: [<class 'sqlalchemy.ext.automap.Regions'>, <class 'sqlalchemy.ext.automap.Employees'>], ColumnCollection(Territories.TerritoryID, Territories.TerritoryDescription, Territories.RegionID)\n",
      "mapped class Regions->Regions: [<class 'sqlalchemy.ext.automap.Territories'>], ColumnCollection(Regions.RegionID, Regions.RegionDescription)\n",
      "mapped class Employees->Employees: [<class 'sqlalchemy.ext.automap.Employees'>, <class 'sqlalchemy.ext.automap.Territories'>, <class 'sqlalchemy.ext.automap.Employees'>, <class 'sqlalchemy.ext.automap.Orders'>], ColumnCollection(Employees.EmployeeID, Employees.LastName, Employees.FirstName, Employees.Title, Employees.TitleOfCourtesy, Employees.BirthDate, Employees.HireDate, Employees.Address, Employees.City, Employees.Region, Employees.PostalCode, Employees.Country, Employees.HomePhone, Employees.Extension, Employees.Photo, Employees.Notes, Employees.ReportsTo, Employees.PhotoPath)\n",
      "mapped class Order Details->Order Details: [<class 'sqlalchemy.ext.automap.Orders'>, <class 'sqlalchemy.ext.automap.Products'>], ColumnCollection(Order Details.OrderID, Order Details.ProductID, Order Details.UnitPrice, Order Details.Quantity, Order Details.Discount)\n",
      "mapped class Products->Products: [<class 'sqlalchemy.ext.automap.Suppliers'>, <class 'sqlalchemy.ext.automap.Categories'>, <class 'sqlalchemy.ext.automap.Order Details'>], ColumnCollection(Products.ProductID, Products.ProductName, Products.SupplierID, Products.CategoryID, Products.QuantityPerUnit, Products.UnitPrice, Products.UnitsInStock, Products.UnitsOnOrder, Products.ReorderLevel, Products.Discontinued)\n",
      "mapped class Suppliers->Suppliers: [<class 'sqlalchemy.ext.automap.Products'>], ColumnCollection(Suppliers.SupplierID, Suppliers.CompanyName, Suppliers.ContactName, Suppliers.ContactTitle, Suppliers.Address, Suppliers.City, Suppliers.Region, Suppliers.PostalCode, Suppliers.Country, Suppliers.Phone, Suppliers.Fax, Suppliers.HomePage)\n",
      "mapped class Orders->Orders: [<class 'sqlalchemy.ext.automap.Customers'>, <class 'sqlalchemy.ext.automap.Shippers'>, <class 'sqlalchemy.ext.automap.Employees'>, <class 'sqlalchemy.ext.automap.Order Details'>], ColumnCollection(Orders.OrderID, Orders.CustomerID, Orders.EmployeeID, Orders.OrderDate, Orders.RequiredDate, Orders.ShippedDate, Orders.ShipVia, Orders.Freight, Orders.ShipName, Orders.ShipAddress, Orders.ShipCity, Orders.ShipRegion, Orders.ShipPostalCode, Orders.ShipCountry)\n",
      "mapped class Shippers->Shippers: [<class 'sqlalchemy.ext.automap.Orders'>], ColumnCollection(Shippers.ShipperID, Shippers.CompanyName, Shippers.Phone)\n"
     ]
    }
   ],
   "source": [
    "\n",
    "for entity in entities:\n",
    "    rels = entity.relationships\n",
    "    cols = entity.columns\n",
    "    print('%s: %s, %s' % (entity, [rel.mapper.class_ for rel in rels], cols))"
   ]
  }
 ],
 "metadata": {
  "kernelspec": {
   "display_name": "Python 3 (ipykernel)",
   "language": "python",
   "name": "python3"
  },
  "language_info": {
   "codemirror_mode": {
    "name": "ipython",
    "version": 3
   },
   "file_extension": ".py",
   "mimetype": "text/x-python",
   "name": "python",
   "nbconvert_exporter": "python",
   "pygments_lexer": "ipython3",
   "version": "3.8.10"
  }
 },
 "nbformat": 4,
 "nbformat_minor": 5
}
